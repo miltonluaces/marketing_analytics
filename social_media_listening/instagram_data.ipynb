{
 "cells": [
  {
   "cell_type": "markdown",
   "id": "formal-statistics",
   "metadata": {},
   "source": [
    "# Instagram data"
   ]
  },
  {
   "cell_type": "code",
   "execution_count": null,
   "id": "external-victoria",
   "metadata": {},
   "outputs": [],
   "source": [
    "import requests"
   ]
  },
  {
   "cell_type": "code",
   "execution_count": 10,
   "id": "dramatic-emperor",
   "metadata": {},
   "outputs": [
    {
     "name": "stdout",
     "output_type": "stream",
     "text": [
      "{\"message\":\"You are not subscribed to this API.\"}\n"
     ]
    }
   ],
   "source": [
    "import requests\n",
    "\n",
    "url = \"https://instagram47.p.rapidapi.com/location_posts\"\n",
    "\n",
    "querystring = {\"locationid\":\"1495\"}\n",
    "\n",
    "headers = {\n",
    "    'x-rapidapi-key': \"rapid key\",\n",
    "    'x-rapidapi-host': \"rapid host\"\n",
    "    }\n",
    "\n",
    "response = requests.request(\"GET\", url, headers=headers, params=querystring)\n",
    "\n",
    "print(response.text)"
   ]
  },
  {
   "cell_type": "code",
   "execution_count": null,
   "id": "informative-means",
   "metadata": {},
   "outputs": [],
   "source": []
  }
 ],
 "metadata": {
  "kernelspec": {
   "display_name": "Python 3.9 64-bit",
   "language": "python",
   "name": "python38164bitc33de82c9da04edea88eb124459bf44a"
  },
  "language_info": {
   "codemirror_mode": {
    "name": "ipython",
    "version": 3
   },
   "file_extension": ".py",
   "mimetype": "text/x-python",
   "name": "python",
   "nbconvert_exporter": "python",
   "pygments_lexer": "ipython3",
   "version": "3.9.2"
  }
 },
 "nbformat": 4,
 "nbformat_minor": 5
}
