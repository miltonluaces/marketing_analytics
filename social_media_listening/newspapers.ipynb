{
 "cells": [
  {
   "cell_type": "markdown",
   "metadata": {},
   "source": [
    "# Newspapers social listening"
   ]
  },
  {
   "cell_type": "code",
   "execution_count": 37,
   "metadata": {},
   "outputs": [],
   "source": [
    "import newspaper as nw\n",
    "from IPython.display import Image\n",
    "from pprint import pprint"
   ]
  },
  {
   "cell_type": "code",
   "execution_count": 14,
   "metadata": {},
   "outputs": [],
   "source": [
    "url = 'http://fox13now.com/2013/12/30/new-year-new-laws-obamacare-pot-guns-and-drones/'\n",
    "article = nw.Article(url)\n",
    "article.download()\n",
    "#article.html"
   ]
  },
  {
   "cell_type": "code",
   "execution_count": 17,
   "metadata": {},
   "outputs": [
    {
     "data": {
      "text/plain": [
       "datetime.datetime(2013, 12, 30, 0, 0)"
      ]
     },
     "execution_count": 17,
     "metadata": {},
     "output_type": "execute_result"
    }
   ],
   "source": [
    "article.parse()\n",
    "article.publish_date"
   ]
  },
  {
   "cell_type": "code",
   "execution_count": 38,
   "metadata": {},
   "outputs": [
    {
     "name": "stdout",
     "output_type": "stream",
     "text": [
      "('By Leigh Ann Caldwell\\n'\n",
      " '\\n'\n",
      " 'WASHINGTON (CNN) — Not everyone subscribes to a New Year’s resolution, but '\n",
      " 'Americans will be required to follow new laws in 2014.\\n'\n",
      " '\\n'\n",
      " 'Some 40,000 measures taking effect range from sweeping, national mandates '\n",
      " 'under Obamacare to marijuana legalization in Colorado, drone prohibition in '\n",
      " 'Illinois and transgender protections in California.\\n'\n",
      " '\\n'\n",
      " 'Although many new laws are controversial, they made it through legislatures, '\n",
      " 'public referendum or city councils and represent the shifting composition of '\n",
      " 'American beliefs.\\n'\n",
      " '\\n'\n",
      " 'Federal: Health care, of course, and vending machines\\n'\n",
      " '\\n'\n",
      " 'The biggest and most politically charged change comes at the federal level '\n",
      " 'with the imposition of a new fee for those adults without health insurance.\\n'\n",
      " '\\n'\n",
      " 'For 2014, the penalty is either $95 per adult or 1% of family income, '\n",
      " 'whichever results in a larger fine.\\n'\n",
      " '\\n'\n",
      " 'The Obamacare, of Affordable Care Act, mandate also requires that insurers '\n",
      " 'cover immunizations and some preventive care.\\n'\n",
      " '\\n'\n",
      " 'Additionally, millions of poor Americans will receive Medicaid benefits '\n",
      " 'starting January 1.\\n'\n",
      " '\\n'\n",
      " 'Thousands of companies will have to provide calorie counts for products sold '\n",
      " 'in vending machines.\\n'\n",
      " '\\n'\n",
      " 'Local: Guns, family leave and shark fins\\n'\n",
      " '\\n'\n",
      " 'Connecticut: While no national legislation was approved to tighten gun laws '\n",
      " 'a year after the Newtown school shooting, Connecticut is implementing a '\n",
      " 'final round of changes to its books: All assault weapons and large capacity '\n",
      " 'magazines must be registered.\\n'\n",
      " '\\n'\n",
      " 'Oregon: Family leave in Oregon has been expanded to allow eligible employees '\n",
      " 'two weeks of paid leave to handle the death of a family member.\\n'\n",
      " '\\n'\n",
      " 'California: Homeless youth are eligible to receive food stamps. The previous '\n",
      " 'law had a minimum wage requirement.\\n'\n",
      " '\\n'\n",
      " 'Delaware: Delaware is the latest in a growing number of states where '\n",
      " 'residents can no longer possess, sell or distribute shark fins, which is '\n",
      " 'considered a delicacy in some East Asian cuisine.\\n'\n",
      " '\\n'\n",
      " 'Illinois and drones\\n'\n",
      " '\\n'\n",
      " 'Illinois: passed two laws limiting the use of drones. One prohibits them '\n",
      " 'from interfering with hunters and fisherman. The measure passed after the '\n",
      " 'group People for the Ethical Treatment of Animals said it would use drones '\n",
      " 'to monitor hunters. PETA said it aims through its “air angels” effort to '\n",
      " 'protect against “cruel” and “illegal” hunting.\\n'\n",
      " '\\n'\n",
      " 'Also in Illinois, another law prohibits the use of drones for law '\n",
      " 'enforcement without a warrant.\\n'\n",
      " '\\n'\n",
      " 'Gender and voting identity\\n'\n",
      " '\\n'\n",
      " 'California: Students can use bathrooms and join school athletic teams '\n",
      " '“consistent with their gender identity,” even if it’s different than their '\n",
      " 'gender at birth.\\n'\n",
      " '\\n'\n",
      " 'Arkansas: The state becomes the latest state requiring voters show a picture '\n",
      " 'ID at the voting booth.\\n'\n",
      " '\\n'\n",
      " 'Minimum wage and former felon employment\\n'\n",
      " '\\n'\n",
      " 'Workers in 13 states and four cities will see increases to the minimum '\n",
      " 'wage.\\n'\n",
      " '\\n'\n",
      " 'While most amount to less than 15 cents per hour, workers in places like New '\n",
      " 'Jersey, and Connecticut.\\n'\n",
      " '\\n'\n",
      " 'New Jersey residents voted to raise the state’s minimum wage by $1 to $8.25 '\n",
      " 'per hour. And in Connecticut, lawmakers voted to raise it between 25 and 75 '\n",
      " 'cents to $8.70. The wage would go up to $8 in Rhode Island and New York.\\n'\n",
      " '\\n'\n",
      " 'California is also raising its minimum wage to $9 per hour, but workers must '\n",
      " 'wait until July to see the addition.\\n'\n",
      " '\\n'\n",
      " 'Rhode Island: It is the latest state to prohibit employers from requiring '\n",
      " 'job applicants to signify if they have a criminal record on a job '\n",
      " 'application.\\n'\n",
      " '\\n'\n",
      " 'Social media and pot\\n'\n",
      " '\\n'\n",
      " 'Oregon: Employers and schools can’t require a job or student applicant to '\n",
      " 'provide passwords to social media accounts.\\n'\n",
      " '\\n'\n",
      " 'Colorado: Marijuana becomes legal in the state for buyers over 21 at a '\n",
      " 'licensed retail dispensary.\\n'\n",
      " '\\n'\n",
      " '(Sourcing: much of this list was obtained from the National Conference of '\n",
      " 'State Legislatures).')\n"
     ]
    }
   ],
   "source": [
    "pprint(article.text)"
   ]
  },
  {
   "cell_type": "code",
   "execution_count": 29,
   "metadata": {},
   "outputs": [
    {
     "data": {
      "text/html": [
       "<img src=\"http://fox13now.com/apple-touch-icon.png\"/>"
      ],
      "text/plain": [
       "<IPython.core.display.Image object>"
      ]
     },
     "execution_count": 29,
     "metadata": {},
     "output_type": "execute_result"
    }
   ],
   "source": [
    "Image(url=article.top_image)"
   ]
  },
  {
   "cell_type": "code",
   "execution_count": 30,
   "metadata": {},
   "outputs": [
    {
     "data": {
      "text/plain": [
       "['family',\n",
       " 'obamacare',\n",
       " 'wage',\n",
       " 'guns',\n",
       " 'law',\n",
       " 'laws',\n",
       " 'leave',\n",
       " 'minimum',\n",
       " 'latest',\n",
       " 'state',\n",
       " 'national',\n",
       " 'states',\n",
       " 'pot',\n",
       " 'drones']"
      ]
     },
     "execution_count": 30,
     "metadata": {},
     "output_type": "execute_result"
    }
   ],
   "source": [
    "article.nlp()\n",
    "article.keywords"
   ]
  },
  {
   "cell_type": "markdown",
   "metadata": {},
   "source": [
    "### See library documentation"
   ]
  },
  {
   "cell_type": "markdown",
   "metadata": {},
   "source": [
    "https://pypi.org/project/newspaper3k/"
   ]
  }
 ],
 "metadata": {
  "kernelspec": {
   "display_name": "Python 3",
   "language": "python",
   "name": "python3"
  },
  "language_info": {
   "codemirror_mode": {
    "name": "ipython",
    "version": 3
   },
   "file_extension": ".py",
   "mimetype": "text/x-python",
   "name": "python",
   "nbconvert_exporter": "python",
   "pygments_lexer": "ipython3",
   "version": "3.8.6"
  }
 },
 "nbformat": 4,
 "nbformat_minor": 4
}
