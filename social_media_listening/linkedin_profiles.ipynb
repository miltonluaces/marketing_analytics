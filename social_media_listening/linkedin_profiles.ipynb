{
 "cells": [
  {
   "cell_type": "markdown",
   "id": "naughty-injection",
   "metadata": {},
   "source": [
    "# Linkedin profiles scrapping"
   ]
  },
  {
   "cell_type": "code",
   "execution_count": null,
   "id": "joint-quarter",
   "metadata": {},
   "outputs": [],
   "source": [
    "import os\n",
    "from linkedin_scraper import Person, actions\n",
    "from selenium import webdriver"
   ]
  },
  {
   "cell_type": "code",
   "execution_count": null,
   "id": "twenty-tourism",
   "metadata": {},
   "outputs": [],
   "source": [
    "driver = webdriver.Chrome('D:/ProgramFiles/Chrome/chromedriver.exe')"
   ]
  },
  {
   "cell_type": "code",
   "execution_count": null,
   "id": "complex-reduction",
   "metadata": {},
   "outputs": [],
   "source": [
    "email = ''\n",
    "password = ''\n",
    "actions.login(driver, email, password)"
   ]
  },
  {
   "cell_type": "code",
   "execution_count": 13,
   "id": "bulgarian-swift",
   "metadata": {},
   "outputs": [],
   "source": [
    "person = Person(\"https://www.linkedin.com/in/varvara-murphy\", driver=driver, scrape=False)"
   ]
  },
  {
   "cell_type": "code",
   "execution_count": 14,
   "id": "distinct-religion",
   "metadata": {},
   "outputs": [],
   "source": [
    "person.scrape()"
   ]
  },
  {
   "cell_type": "code",
   "execution_count": 15,
   "id": "noted-belief",
   "metadata": {},
   "outputs": [
    {
     "data": {
      "text/plain": [
       "Varvara Murphy\n",
       "\n",
       "About\n",
       "['Experienced Database Consultant with a demonstrated history of working in the information technology and services industry. Skilled in Oracle Database, Database migrations, Engineered systems, Data Warehousing, and Database Development. Strong information technology professional with a Bachelors Degree Sciences focused in Mathematical modelling from Trinity College, Dublin and Masters of Information Systems Engineering.']\n",
       "\n",
       "Experience\n",
       "[Systems Specialist at Workhuman from Sep 2019 to Present for 1 yr 8 mos based at County Dublin, Ireland, Company Name\n",
       "Version 1 at None from None to None for None based at None, Principal Consultant at Version1 from 2015 – to  for 6 yrs based at County Dublin, Ireland, Senior DBA at Syncreon from Nov 2013 to Apr 2015 for 1 yr 6 mos based at Dublin, Ireland, Senior DBA at None from None to None for None based at None]\n",
       "\n",
       "Education\n",
       "[Professional Diploma in Strategy and Innovation at Irish Management Institute from 2020 to 2021, Bachelors Degree Sciences at Trinity College, Dublin from 1988 to 1991, Bachelor of Science (B.Sc.) at Trinity College, Dublin from 1982 to 1986]\n",
       "\n",
       "Interest\n",
       "[]\n",
       "\n",
       "Accomplishments\n",
       "[]\n",
       "\n",
       "Contacts\n",
       "[Susan Silva (Your Path to Better Borrowing), Terri Day (Lead Generation Specialist at Olivia Hudson), Eugene Kanasheuski (Data Scientist | Economist at Zalando SE), İdris Aykun (Engineering Manager at Zalando SE), Jan Rathfelder (Predictive Buying (Supply Planning & Analytics)), Anusha N T 💰🏦 (Data Analyst | Antimoney Laundering CDD KYC consultant | Business Intelligence | SAS | R | Agile | Data model | Power BI), Karen Mcbride (𝕃𝕚𝕟𝕜𝕖𝕕𝕀𝕟 𝕃𝕖𝕒𝕕 𝔾𝕖𝕟𝕖𝕣𝕒𝕥𝕠𝕣), Sean Berry (Consultant at FTI Consulting), Sylvia Turner (🎓 𝘏𝘢𝘳𝘯𝘦𝘴𝘴𝘪𝘯𝘨 𝘵𝘩𝘦 𝘱𝘰𝘸𝘦𝘳 𝘰𝘧 𝘓𝘪𝘯𝘬𝘦𝘥𝘪𝘯), Tom O'Brien (Director, Construction Solutions at FTI Consulting), Delia Stanley (Business Development Executive at Yellow Stone Finance. Your Path To Better Borrowing), Ahmud Damry (Senior Consultant at FTI Consulting), Stefan Hoops (Head of the Corporate Bank and Member of the Group Management Committee at Deutsche Bank), Padmanabhan( Paddy) Ananthanarayanan (Managing Director( Senior Partner) Digital, Europe,Africa,Middle East & Latin America, Products OG at Accenture), Ben Duffy (Chief Robotics Officer at Bearcover | Co-founder at MTank), Miles Harrison (Consultant at FTI Consulting | University of Oxford), Katie McDonald (Executive Assistant at FTI Consulting), Nicolò Barbagallo (Senior Consultant in Data & Analytics at EY), André Frazão (Operating Partner na FTI Consulting), Christian Kaspar (Head of Accenture Applied Intelligence in Austria, Switzerland and Germany at Accenture GmbH), Morgan Luttman (Digital Operations Manager at LV=), Manuel Marín Martínez (Managing Director - Data Science & Analytics at FTI Consulting), Barbara Wittmann (Country Manager for Germany, Switzerland and Austria at LinkedIn), Dr. Feiyu Xu (Senior Vice President, Global Head of Artificial Intelligence bei SAP), Joachim Hornegger (President of FAU - Germany's most innovative university. #2 in Europe. #14 worldwide.), Frank Riemensperger (Chairman Accenture Germany (Member of Accenture Global Management Committee)), Rainer Binder (Global Managing Director bei Accenture), Harriet Barham (Senior Director at FTI Consulting EU), Fernando Martinez (Consultor), Najia Mukhtar (Director, Global Insurance Services at FTI Consulting), Lauren Burge (Managing Director at FTI Consulting - Head of Corporate Reputation - Communication, Content, Digital, Creative), Nicole Austin (Senior Director at FTI Consulting), Neil Reynolds (Senior Director at FTI Consulting), Liz Jordan (Senior Director, Digital Science at FTI Consulting), Jonathan Neilan (FTI Consulting), Jelili Odunayo Kazeem (Co-Founder/Director at ConvoSync Solutions Limited), Lorcan Malone (Chief Executive at The Analytics Institute), Ralf Klinkenberg (Co-Founder and General Manager at RapidMiner), Anna Brous Mills (Business Development Director at FTI Consulting), Cian Murphy (Chief Product & Digital Officer at National Lottery)]"
      ]
     },
     "execution_count": 15,
     "metadata": {},
     "output_type": "execute_result"
    }
   ],
   "source": [
    "person"
   ]
  },
  {
   "cell_type": "markdown",
   "id": "great-logging",
   "metadata": {},
   "source": [
    "### Credits & Links"
   ]
  },
  {
   "cell_type": "markdown",
   "id": "sporting-consultancy",
   "metadata": {},
   "source": [
    "https://pypi.org/project/linkedin-scraper/  \n",
    "https://www.linkedin.com/pulse/how-easy-scraping-data-from-linkedin-profiles-david-craven/  \n",
    "https://www.bestproxyreviews.com/linkedin-scraper/"
   ]
  }
 ],
 "metadata": {
  "kernelspec": {
   "display_name": "Python 3.9 64-bit",
   "language": "python",
   "name": "python38164bitc33de82c9da04edea88eb124459bf44a"
  },
  "language_info": {
   "codemirror_mode": {
    "name": "ipython",
    "version": 3
   },
   "file_extension": ".py",
   "mimetype": "text/x-python",
   "name": "python",
   "nbconvert_exporter": "python",
   "pygments_lexer": "ipython3",
   "version": "3.9.2"
  }
 },
 "nbformat": 4,
 "nbformat_minor": 5
}
