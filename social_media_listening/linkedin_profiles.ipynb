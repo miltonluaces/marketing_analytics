{
 "cells": [
  {
   "cell_type": "markdown",
   "id": "median-virgin",
   "metadata": {},
   "source": [
    "# Linkedin profiles scrapping"
   ]
  },
  {
   "cell_type": "code",
   "execution_count": 53,
   "id": "linear-charm",
   "metadata": {},
   "outputs": [],
   "source": [
    "import os\n",
    "from linkedin_scraper import Person, actions\n",
    "from selenium import webdriver"
   ]
  },
  {
   "cell_type": "code",
   "execution_count": 54,
   "id": "pleasant-frontier",
   "metadata": {},
   "outputs": [],
   "source": [
    "driver = webdriver.Chrome('D:/ProgramFiles/Chrome/chromedriver.exe')"
   ]
  },
  {
   "cell_type": "code",
   "execution_count": 55,
   "id": "indian-butterfly",
   "metadata": {},
   "outputs": [
    {
     "name": "stdin",
     "output_type": "stream",
     "text": [
      "Email:  mmartinezluaces@gmail.com\n",
      "Password:  ····················\n"
     ]
    }
   ],
   "source": [
    "email = ''\n",
    "password = ''\n",
    "actions.login(driver, email, password)"
   ]
  },
  {
   "cell_type": "code",
   "execution_count": 56,
   "id": "acquired-parts",
   "metadata": {},
   "outputs": [],
   "source": [
    "person = Person(\"https://www.linkedin.com/in/andre-iguodala-65b48ab5\", driver=driver, scrape=False)"
   ]
  },
  {
   "cell_type": "code",
   "execution_count": 57,
   "id": "chemical-joyce",
   "metadata": {},
   "outputs": [],
   "source": [
    "person.scrape()"
   ]
  },
  {
   "cell_type": "code",
   "execution_count": 59,
   "id": "filled-tucson",
   "metadata": {},
   "outputs": [
    {
     "data": {
      "text/plain": [
       "Andre Iguodala\n",
       "\n",
       "About\n",
       "['Andre Iguodala, who plays for the Miami Heat, has made his mark as one of the NBA’s premier players. Andre is a three-time NBA Champion with the Golden State Warriors, the team he played for from 2013-2019.\\n\\nDuring his time with Golden State, Andre played a leading role in each of the team’s championship seasons. Throughout the 2017 championship run, he further established his legacy as a standout defensive force and indomitable “sixth man.” In 2015 Andre received the NBA Finals Most Valuable Player Award. He was an NBA All-Star in 2012 and has been named to the NBA All-Defensive Team twice. Andre was also a member of the United States national team at the 2010 FIBA World Championship and 2012 Summer Olympics, winning the gold medal both times.\\n\\nOff the court, Andre is at the forefront of venture capital and technology. He has invested in more than 40 companies through his firm F9 Strategies, including Zoom, Datadog, PagerDuty and Allbirds. Andre is an investor and a member of the Board of Directors for Jumia Technologies (NYSE: JMIA), a leading e-commerce platform widely considered the “Amazon of Africa.” He also serves as a Board Advisor at enterprise software company Zuora.\\n\\nAndre is currently a Venture Partner at the Catalyst Fund, the venture capital affiliate of Comcast Corporation, which supports startups with founders from diverse backgrounds. He focuses on investments in companies founded by African American, Latinx and female entrepreneurs.\\n\\nAndre has earned the reputation as a thought leader in sports, business and venture capital. He has been a featured speaker at events at Harvard Business School, Goldman Sachs, Morgan Stanley, Pager Duty, AirBNB and Salesforce. Andre has served on the National Basketball Players Association executive committee since 2015, and currently acts as its First Vice President.\\n\\nIn 2017 Andre partnered with Bloomberg on the creation of The Players Technology Summit. The annual summit convenes top executives and leaders in the technology, venture capital and sports communities to exchange ideas and share expertise in an educational and empowering forum.\\n\\nAndre’s memoir, “The Sixth Man,” was published by Penguin Random House in June 2019 and debuted at #6 on the New York Times Best Sellers Nonfiction list.']\n",
       "\n",
       "Experience\n",
       "[Professional Basketball Player at National Basketball Association (NBA) from 2004 – to  for 17 yrs based at United States, Investment Committee at None from None to None for None based at None, Board Member at None from None to None for None based at None, Vice President at National Basketball Players Association (NBPA) from Feb 2013 to Present for 8 yrs 3 mos based at New York, NY, Venture Partner at None from None to None for None based at None]\n",
       "\n",
       "Education\n",
       "[None at University of Arizona from None to None]\n",
       "\n",
       "Interest\n",
       "[]\n",
       "\n",
       "Accomplishments\n",
       "[]\n",
       "\n",
       "Contacts\n",
       "[Susan Silva (Your Path to Better Borrowing), Terri Day (Lead Generation Specialist at Olivia Hudson), Eugene Kanasheuski (Data Scientist | Economist at Zalando SE), İdris Aykun (Engineering Manager at Zalando SE), Jan Rathfelder (Predictive Buying (Supply Planning & Analytics)), Anusha N T 💰🏦 (Data Analyst | Antimoney Laundering CDD KYC consultant | Business Intelligence | SAS | R | Agile | Data model | Power BI), Karen Mcbride (𝕃𝕚𝕟𝕜𝕖𝕕𝕀𝕟 𝕃𝕖𝕒𝕕 𝔾𝕖𝕟𝕖𝕣𝕒𝕥𝕠𝕣), Sean Berry (Consultant at FTI Consulting), Sylvia Turner (🎓 𝘏𝘢𝘳𝘯𝘦𝘴𝘴𝘪𝘯𝘨 𝘵𝘩𝘦 𝘱𝘰𝘸𝘦𝘳 𝘰𝘧 𝘓𝘪𝘯𝘬𝘦𝘥𝘪𝘯), Tom O'Brien (Director, Construction Solutions at FTI Consulting), Delia Stanley (Business Development Executive at Yellow Stone Finance. Your Path To Better Borrowing), Ahmud Damry (Senior Consultant at FTI Consulting), Stefan Hoops (Head of the Corporate Bank and Member of the Group Management Committee at Deutsche Bank), Padmanabhan( Paddy) Ananthanarayanan (Managing Director( Senior Partner) Digital, Europe,Africa,Middle East & Latin America, Products OG at Accenture), Ben Duffy (Chief Robotics Officer at Bearcover | Co-founder at MTank), Miles Harrison (Consultant at FTI Consulting | University of Oxford), Katie McDonald (Executive Assistant at FTI Consulting), Nicolò Barbagallo (Senior Consultant in Data & Analytics at EY), André Frazão (Operating Partner na FTI Consulting), Christian Kaspar (Head of Accenture Applied Intelligence in Austria, Switzerland and Germany at Accenture GmbH), Morgan Luttman (Digital Operations Manager at LV=), Manuel Marín Martínez (Managing Director - Data Science & Analytics at FTI Consulting), Barbara Wittmann (Country Manager for Germany, Switzerland and Austria at LinkedIn), Dr. Feiyu Xu (Senior Vice President, Global Head of Artificial Intelligence bei SAP), Joachim Hornegger (President of FAU - Germany's most innovative university. #2 in Europe. #14 worldwide.), Frank Riemensperger (Chairman Accenture Germany (Member of Accenture Global Management Committee)), Rainer Binder (Global Managing Director bei Accenture), Harriet Barham (Senior Director at FTI Consulting EU), Fernando Martinez (Consultor), Najia Mukhtar (Director, Global Insurance Services at FTI Consulting), Lauren Burge (Managing Director at FTI Consulting - Head of Corporate Reputation - Communication, Content, Digital, Creative), Nicole Austin (Senior Director at FTI Consulting), Neil Reynolds (Senior Director at FTI Consulting), Liz Jordan (Senior Director, Digital Science at FTI Consulting), Jonathan Neilan (FTI Consulting), Jelili Odunayo Kazeem (Co-Founder/Director at ConvoSync Solutions Limited), Lorcan Malone (Chief Executive at The Analytics Institute), Ralf Klinkenberg (Co-Founder and General Manager at RapidMiner), Anna Brous Mills (Business Development Director at FTI Consulting), Cian Murphy (Chief Product & Digital Officer at National Lottery)]"
      ]
     },
     "execution_count": 59,
     "metadata": {},
     "output_type": "execute_result"
    }
   ],
   "source": [
    "person"
   ]
  },
  {
   "cell_type": "markdown",
   "id": "concrete-discipline",
   "metadata": {},
   "source": [
    "### Credits & Links"
   ]
  },
  {
   "cell_type": "markdown",
   "id": "standing-vegetarian",
   "metadata": {},
   "source": [
    "https://pypi.org/project/linkedin-scraper/  \n",
    "https://www.linkedin.com/pulse/how-easy-scraping-data-from-linkedin-profiles-david-craven/  \n",
    "https://www.bestproxyreviews.com/linkedin-scraper/"
   ]
  }
 ],
 "metadata": {
  "kernelspec": {
   "display_name": "Python 3.9 64-bit",
   "language": "python",
   "name": "python38164bitc33de82c9da04edea88eb124459bf44a"
  },
  "language_info": {
   "codemirror_mode": {
    "name": "ipython",
    "version": 3
   },
   "file_extension": ".py",
   "mimetype": "text/x-python",
   "name": "python",
   "nbconvert_exporter": "python",
   "pygments_lexer": "ipython3",
   "version": "3.9.2"
  }
 },
 "nbformat": 4,
 "nbformat_minor": 5
}
