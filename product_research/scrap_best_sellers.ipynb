{
 "cells": [
  {
   "cell_type": "markdown",
   "id": "suburban-technician",
   "metadata": {},
   "source": [
    "# Scrapping best sellers list"
   ]
  },
  {
   "cell_type": "code",
   "execution_count": 21,
   "id": "valued-machinery",
   "metadata": {},
   "outputs": [],
   "source": [
    "import sys\n",
    "sys.path.append('D:/source/repos')\n",
    "from utilities.std_imports import *\n",
    "from bs4 import BeautifulSoup\n",
    "import requests\n",
    "import soupsieve\n",
    "import lxml"
   ]
  },
  {
   "cell_type": "markdown",
   "id": "initial-helicopter",
   "metadata": {},
   "source": [
    "### Retrieve data"
   ]
  },
  {
   "cell_type": "code",
   "execution_count": 4,
   "id": "excited-sapphire",
   "metadata": {},
   "outputs": [],
   "source": [
    "headers = {'User-Agent':'Mozilla/5.0 (Macintosh; Intel Mac OS X 10_11_2) AppleWebKit/601.3.9 (KHTML, like Gecko) Version/9.0.2 Safari/601.3.9'}\n",
    "url = 'https://www.amazon.in/gp/bestsellers/garden/ref=zg_bs_nav_0/258-0752277-9771203'\n",
    "\n",
    "response=requests.get(url,headers=headers)\n",
    "\n",
    "\n",
    "soup=BeautifulSoup(response.content,'lxml')\n",
    "#soup"
   ]
  },
  {
   "cell_type": "code",
   "execution_count": null,
   "id": "homeless-walnut",
   "metadata": {},
   "outputs": [],
   "source": [
    "for item in soup.select('.zg-item-immersion'):\n",
    "    try:\n",
    "        print('')\n",
    "        print('-------------------------------------------------------------------------------------------------------------------------------------------------------------------')\n",
    "        print('')\n",
    "        print(item)\n",
    "\n",
    "    except Exception as e:\n",
    "        #raise e\n",
    "        print('')"
   ]
  },
  {
   "cell_type": "code",
   "execution_count": 34,
   "id": "emotional-broad",
   "metadata": {},
   "outputs": [],
   "source": [
    "prods = []\n",
    "prices = []\n",
    "stars = []\n",
    "sales = []\n",
    "reviews = []\n",
    "images = []\n",
    "\n",
    "for item in soup.select('.zg-item-immersion'):\n",
    "    try:\n",
    "        prod = item.select('.p13n-sc-truncate')[0].get_text().strip()\n",
    "        price = item.select('.p13n-sc-price')[0].get_text().strip()\n",
    "        star = item.select('.a-icon-row i')[0].get_text().strip()[0]\n",
    "        sale = item.select('.a-icon-row a')[1].get_text().strip()\n",
    "        review = item.select('.a-icon-row a')[1]['href']\n",
    "        image = item.select('img')[0]['src']\n",
    "        \n",
    "        prods.append(prod)\n",
    "        prices.append(price)\n",
    "        stars.append(star)\n",
    "        sales.append(sale)\n",
    "        reviews.append(review)\n",
    "        images.append(image)\n",
    "\n",
    "\n",
    "    except Exception as e:\n",
    "        #raise e\n",
    "        'error'"
   ]
  },
  {
   "cell_type": "code",
   "execution_count": 35,
   "id": "transsexual-clinic",
   "metadata": {},
   "outputs": [
    {
     "data": {
      "text/html": [
       "<div>\n",
       "<style scoped>\n",
       "    .dataframe tbody tr th:only-of-type {\n",
       "        vertical-align: middle;\n",
       "    }\n",
       "\n",
       "    .dataframe tbody tr th {\n",
       "        vertical-align: top;\n",
       "    }\n",
       "\n",
       "    .dataframe thead th {\n",
       "        text-align: right;\n",
       "    }\n",
       "</style>\n",
       "<table border=\"1\" class=\"dataframe\">\n",
       "  <thead>\n",
       "    <tr style=\"text-align: right;\">\n",
       "      <th></th>\n",
       "      <th>product</th>\n",
       "      <th>price</th>\n",
       "      <th>stars</th>\n",
       "      <th>sales</th>\n",
       "      <th>review</th>\n",
       "      <th>image</th>\n",
       "    </tr>\n",
       "  </thead>\n",
       "  <tbody>\n",
       "    <tr>\n",
       "      <th>0</th>\n",
       "      <td>HIT Anti Mosquito Racquet - Rechargeable Insec...</td>\n",
       "      <td>₹ 395.00</td>\n",
       "      <td>4</td>\n",
       "      <td>22,101</td>\n",
       "      <td>/product-reviews/B081RG3ZVH/ref=zg_bs_garden_c...</td>\n",
       "      <td>https://images-eu.ssl-images-amazon.com/images...</td>\n",
       "    </tr>\n",
       "    <tr>\n",
       "      <th>1</th>\n",
       "      <td>Classic Mosquito Net Double Bed King Size Poly...</td>\n",
       "      <td>₹ 949.00</td>\n",
       "      <td>4</td>\n",
       "      <td>17,360</td>\n",
       "      <td>/product-reviews/B08PZ85CF4/ref=zg_bs_garden_c...</td>\n",
       "      <td>https://images-eu.ssl-images-amazon.com/images...</td>\n",
       "    </tr>\n",
       "    <tr>\n",
       "      <th>2</th>\n",
       "      <td>HIT – Mosquito and Fly Killer Spray, 625ml</td>\n",
       "      <td>₹ 178.00</td>\n",
       "      <td>4</td>\n",
       "      <td>3,087</td>\n",
       "      <td>/product-reviews/B07WDH619L/ref=zg_bs_garden_c...</td>\n",
       "      <td>https://images-eu.ssl-images-amazon.com/images...</td>\n",
       "    </tr>\n",
       "    <tr>\n",
       "      <th>3</th>\n",
       "      <td>Kisan Kraft KK-PS2000 Manual Sprayer (2 Litre)...</td>\n",
       "      <td>₹ 249.00</td>\n",
       "      <td>3</td>\n",
       "      <td>6,861</td>\n",
       "      <td>/product-reviews/B083QHZMKW/ref=zg_bs_garden_c...</td>\n",
       "      <td>https://images-eu.ssl-images-amazon.com/images...</td>\n",
       "    </tr>\n",
       "    <tr>\n",
       "      <th>4</th>\n",
       "      <td>Good knight Power Activ+, Mosquito Repellent R...</td>\n",
       "      <td>₹ 379.00</td>\n",
       "      <td>4</td>\n",
       "      <td>4,248</td>\n",
       "      <td>/product-reviews/B087K9XPZT/ref=zg_bs_garden_c...</td>\n",
       "      <td>https://images-eu.ssl-images-amazon.com/images...</td>\n",
       "    </tr>\n",
       "  </tbody>\n",
       "</table>\n",
       "</div>"
      ],
      "text/plain": [
       "                                             product     price stars   sales  \\\n",
       "0  HIT Anti Mosquito Racquet - Rechargeable Insec...  ₹ 395.00     4  22,101   \n",
       "1  Classic Mosquito Net Double Bed King Size Poly...  ₹ 949.00     4  17,360   \n",
       "2         HIT – Mosquito and Fly Killer Spray, 625ml  ₹ 178.00     4   3,087   \n",
       "3  Kisan Kraft KK-PS2000 Manual Sprayer (2 Litre)...  ₹ 249.00     3   6,861   \n",
       "4  Good knight Power Activ+, Mosquito Repellent R...  ₹ 379.00     4   4,248   \n",
       "\n",
       "                                              review  \\\n",
       "0  /product-reviews/B081RG3ZVH/ref=zg_bs_garden_c...   \n",
       "1  /product-reviews/B08PZ85CF4/ref=zg_bs_garden_c...   \n",
       "2  /product-reviews/B07WDH619L/ref=zg_bs_garden_c...   \n",
       "3  /product-reviews/B083QHZMKW/ref=zg_bs_garden_c...   \n",
       "4  /product-reviews/B087K9XPZT/ref=zg_bs_garden_c...   \n",
       "\n",
       "                                               image  \n",
       "0  https://images-eu.ssl-images-amazon.com/images...  \n",
       "1  https://images-eu.ssl-images-amazon.com/images...  \n",
       "2  https://images-eu.ssl-images-amazon.com/images...  \n",
       "3  https://images-eu.ssl-images-amazon.com/images...  \n",
       "4  https://images-eu.ssl-images-amazon.com/images...  "
      ]
     },
     "execution_count": 35,
     "metadata": {},
     "output_type": "execute_result"
    }
   ],
   "source": [
    "df = pd.DataFrame({'product':prods, 'price':prices, 'stars':stars, 'sales':sales, 'review': reviews, 'image':images})\n",
    "df.head()"
   ]
  },
  {
   "cell_type": "markdown",
   "id": "mechanical-verification",
   "metadata": {},
   "source": [
    "### Credits & Links"
   ]
  },
  {
   "cell_type": "markdown",
   "id": "bottom-symbol",
   "metadata": {},
   "source": [
    "https://teracrawler.io/blog/scraping-amazon-best-seller-lists-with-python-and-beautiful-soup.php    \n",
    "https://stackoverflow.com/questions/40618992/amazon-best-seller-scraping  \n",
    "https://github.com/kf106/amazon-bestseller  \n",
    "https://github.com/h-sinha/Amazon-Bestseller-Books-Scraper  \n",
    "https://apify.com/mihails/amazon-bestsellers-scraper#proxy-configuration    \n",
    "https://www.scrapehero.com/extract-amazon-bestsellers-web-scraper/  \n",
    "https://medium.com/datamadeeasy/scrapy-part-2-scrape-best-seller-book-on-amazon-e7e05c5354a9"
   ]
  },
  {
   "cell_type": "code",
   "execution_count": null,
   "id": "decreased-cleveland",
   "metadata": {},
   "outputs": [],
   "source": []
  }
 ],
 "metadata": {
  "kernelspec": {
   "display_name": "Python 3.9 64-bit",
   "language": "python",
   "name": "python38164bitc33de82c9da04edea88eb124459bf44a"
  },
  "language_info": {
   "codemirror_mode": {
    "name": "ipython",
    "version": 3
   },
   "file_extension": ".py",
   "mimetype": "text/x-python",
   "name": "python",
   "nbconvert_exporter": "python",
   "pygments_lexer": "ipython3",
   "version": "3.9.2"
  }
 },
 "nbformat": 4,
 "nbformat_minor": 5
}
